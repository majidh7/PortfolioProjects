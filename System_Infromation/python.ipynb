{
 "cells": [
  {
   "cell_type": "markdown",
   "id": "f5de68d0",
   "metadata": {},
   "source": [
    "### Import the required modules"
   ]
  },
  {
   "cell_type": "code",
   "execution_count": null,
   "id": "ca698fd6",
   "metadata": {},
   "outputs": [],
   "source": [
    "import pyodbc\n",
    "import psutil\n",
    "import time"
   ]
  },
  {
   "cell_type": "markdown",
   "id": "1715375b",
   "metadata": {},
   "source": [
    "### Connect to the SQL database and get the system performance informations"
   ]
  },
  {
   "cell_type": "code",
   "execution_count": null,
   "id": "930bc11b",
   "metadata": {},
   "outputs": [],
   "source": [
    "conc = pyodbc.connect(\n",
    "    \"Driver={SQL Server};\"\n",
    "    \"Server= Server name;\"\n",
    "    \"Database=System_info;\"\n",
    "    \"Trusted_Connection=yes;\"\n",
    ")\n",
    "cursor = conc.cursor()\n",
    "while 1==1:\n",
    "    cpu_usage = psutil.cpu_percent()\n",
    "    memory_usage = psutil.virtual_memory()[2]\n",
    "    cpu_interrupts = psutil.cpu_stats()[1]\n",
    "    cpu_calls = psutil.cpu_stats()[3]\n",
    "    memory_used = psutil.virtual_memory()[3]\n",
    "    memory_free = psutil.virtual_memory()[4]\n",
    "    bytes_sent = psutil.net_io_counters()[0]\n",
    "    bytes_recieved = psutil.net_io_counters()[1]\n",
    "    disk_usage = psutil.disk_usage('/')[3]\n",
    "    \n",
    "    try:\n",
    "        cursor.execute(f'INSERT INTO Performance VALUES(GETDATE(), {cpu_usage}, {memory_usage}, {cpu_interrupts}, {cpu_calls}, {memory_used}, {memory_free}, {bytes_sent}, {bytes_recieved}, {disk_usage})')\n",
    "        conc.commit()\n",
    "    except pyodbc.Error as error:\n",
    "        print(f'error {error}')\n",
    "        break\n",
    "        \n",
    "    time.sleep(1)"
   ]
  }
 ],
 "metadata": {
  "kernelspec": {
   "display_name": "Python 3 (ipykernel)",
   "language": "python",
   "name": "python3"
  },
  "language_info": {
   "codemirror_mode": {
    "name": "ipython",
    "version": 3
   },
   "file_extension": ".py",
   "mimetype": "text/x-python",
   "name": "python",
   "nbconvert_exporter": "python",
   "pygments_lexer": "ipython3",
   "version": "3.10.9"
  }
 },
 "nbformat": 4,
 "nbformat_minor": 5
}
